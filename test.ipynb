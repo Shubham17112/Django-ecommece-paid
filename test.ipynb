{
 "cells": [
  {
   "cell_type": "code",
   "execution_count": null,
   "metadata": {
    "vscode": {
     "languageId": "plaintext"
    }
   },
   "outputs": [],
   "source": [
    "import requests\n",
    "from bs4 import BeautifulSoup\n",
    "\n",
    "# Define your filters\n",
    "job_title = \"python developer\"\n",
    "location = \"remote\"\n",
    "experience_level = \"entry_level\"\n",
    "job_type = \"fulltime\"\n",
    "days_posted = 7\n",
    "\n",
    "# Construct URL dynamically\n",
    "URL = f\"https://in.indeed.com/jobs?q={job_title.replace(' ', '+')}&l={location}&explvl={experience_level}&jt={job_type}&fromage={days_posted}&sort=date\"\n",
    "\n",
    "headers = {\"User-Agent\": \"Mozilla/5.0\"}\n",
    "response = requests.get(URL, headers=headers)\n",
    "soup = BeautifulSoup(response.text, \"html.parser\")\n",
    "\n",
    "# Extract job postings\n",
    "for job_card in soup.find_all(\"div\", class_=\"job_seen_beacon\"):\n",
    "    title = job_card.find(\"h2\").text.strip()\n",
    "    link = \"https://in.indeed.com\" + job_card.find(\"a\")[\"href\"]\n",
    "    print(f\"Title: {title}\\nLink: {link}\\n\")\n"
   ]
  }
 ],
 "metadata": {
  "language_info": {
   "name": "python"
  }
 },
 "nbformat": 4,
 "nbformat_minor": 2
}
